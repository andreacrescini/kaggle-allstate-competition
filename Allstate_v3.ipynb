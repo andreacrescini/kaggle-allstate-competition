{
 "cells": [
  {
   "cell_type": "markdown",
   "metadata": {},
   "source": [
    "# Jump-start script for All state competition on kaggle"
   ]
  },
  {
   "cell_type": "markdown",
   "metadata": {},
   "source": [
    "## Data loading"
   ]
  },
  {
   "cell_type": "code",
   "execution_count": 1,
   "metadata": {
    "collapsed": false
   },
   "outputs": [],
   "source": [
    "import pandas as pd\n",
    "\n",
    "train = pd.read_csv('../input/train.csv')\n",
    "test = pd.read_csv('../input/test.csv')"
   ]
  },
  {
   "cell_type": "code",
   "execution_count": 2,
   "metadata": {
    "collapsed": false
   },
   "outputs": [
    {
     "data": {
      "text/plain": [
       "((188318, 132),\n",
       " Index(['id', 'cat1', 'cat2', 'cat3', 'cat4', 'cat5', 'cat6', 'cat7', 'cat8',\n",
       "        'cat9',\n",
       "        ...\n",
       "        'cont6', 'cont7', 'cont8', 'cont9', 'cont10', 'cont11', 'cont12',\n",
       "        'cont13', 'cont14', 'loss'],\n",
       "       dtype='object', length=132))"
      ]
     },
     "execution_count": 2,
     "metadata": {},
     "output_type": "execute_result"
    }
   ],
   "source": [
    "train.shape, train.columns"
   ]
  },
  {
   "cell_type": "code",
   "execution_count": 3,
   "metadata": {
    "collapsed": false
   },
   "outputs": [
    {
     "data": {
      "text/plain": [
       "((125546, 131),\n",
       " Index(['id', 'cat1', 'cat2', 'cat3', 'cat4', 'cat5', 'cat6', 'cat7', 'cat8',\n",
       "        'cat9',\n",
       "        ...\n",
       "        'cont5', 'cont6', 'cont7', 'cont8', 'cont9', 'cont10', 'cont11',\n",
       "        'cont12', 'cont13', 'cont14'],\n",
       "       dtype='object', length=131))"
      ]
     },
     "execution_count": 3,
     "metadata": {},
     "output_type": "execute_result"
    }
   ],
   "source": [
    "test.shape, test.columns"
   ]
  },
  {
   "cell_type": "markdown",
   "metadata": {},
   "source": [
    "## Dataset\n",
    "### Let's look at ID numbers"
   ]
  },
  {
   "cell_type": "code",
   "execution_count": 4,
   "metadata": {
    "collapsed": false
   },
   "outputs": [
    {
     "data": {
      "text/plain": [
       "(array([     1,      2,      5, ..., 587630, 587632, 587633], dtype=int64),\n",
       " array([     4,      6,      9, ..., 587627, 587629, 587634], dtype=int64))"
      ]
     },
     "execution_count": 4,
     "metadata": {},
     "output_type": "execute_result"
    }
   ],
   "source": [
    "train['id'].values, test['id'].values"
   ]
  },
  {
   "cell_type": "markdown",
   "metadata": {},
   "source": [
    "### ID's are interleaved. So, we can use it as feature to catch dependency on the order of data collection"
   ]
  },
  {
   "cell_type": "markdown",
   "metadata": {},
   "source": [
    "### What are target values?"
   ]
  },
  {
   "cell_type": "code",
   "execution_count": 5,
   "metadata": {
    "collapsed": false
   },
   "outputs": [
    {
     "data": {
      "text/plain": [
       "array([ 2213.18,  1283.6 ,  3005.09, ...,  5762.64,  1562.87,  4751.72])"
      ]
     },
     "execution_count": 5,
     "metadata": {},
     "output_type": "execute_result"
    }
   ],
   "source": [
    "train['loss'].values"
   ]
  },
  {
   "cell_type": "code",
   "execution_count": 6,
   "metadata": {
    "collapsed": false
   },
   "outputs": [
    {
     "data": {
      "text/plain": [
       "(3037.3376856699792, 2115.5699999999997)"
      ]
     },
     "execution_count": 6,
     "metadata": {},
     "output_type": "execute_result"
    }
   ],
   "source": [
    "train['loss'].mean(), train['loss'].median()"
   ]
  },
  {
   "cell_type": "markdown",
   "metadata": {},
   "source": [
    "### Probably loss is in dollars\n",
    "### Let's look to the target distribution itself"
   ]
  },
  {
   "cell_type": "code",
   "execution_count": 7,
   "metadata": {
    "collapsed": true
   },
   "outputs": [],
   "source": [
    "%matplotlib inline\n",
    "\n",
    "import seaborn as sns\n",
    "import matplotlib.pyplot as plt"
   ]
  },
  {
   "cell_type": "code",
   "execution_count": 8,
   "metadata": {
    "collapsed": false
   },
   "outputs": [
    {
     "data": {
      "image/png": "[encoded data removed]",
      "text/plain": [
       "<matplotlib.figure.Figure at 0x99a9278>"
      ]
     },
     "metadata": {},
     "output_type": "display_data"
    }
   ],
   "source": [
    "_ = plt.hist(train['loss'], bins = 100, log = True)"
   ]
  },
  {
   "cell_type": "code",
   "execution_count": 9,
   "metadata": {
    "collapsed": false
   },
   "outputs": [
    {
     "data": {
      "text/plain": [
       "(array([  4.74790000e+04,   5.81510000e+04,   3.13840000e+04,\n",
       "          1.86150000e+04,   1.13480000e+04,   7.33000000e+03,\n",
       "          4.46500000e+03,   3.02500000e+03,   2.00000000e+03,\n",
       "          1.35300000e+03,   9.29000000e+02,   6.13000000e+02,\n",
       "          4.40000000e+02,   3.23000000e+02,   2.02000000e+02,\n",
       "          1.65000000e+02,   1.12000000e+02,   9.40000000e+01,\n",
       "          6.30000000e+01,   4.40000000e+01,   3.80000000e+01,\n",
       "          3.80000000e+01,   2.00000000e+01,   1.50000000e+01,\n",
       "          1.20000000e+01,   1.00000000e+01,   6.00000000e+00,\n",
       "          5.00000000e+00,   5.00000000e+00,   3.00000000e+00,\n",
       "          5.00000000e+00,   2.00000000e+00,   1.00000000e+00,\n",
       "          1.00000000e+00,   3.00000000e+00,   0.00000000e+00,\n",
       "          4.00000000e+00,   2.00000000e+00,   0.00000000e+00,\n",
       "          0.00000000e+00,   2.00000000e+00,   0.00000000e+00,\n",
       "          2.00000000e+00,   0.00000000e+00,   1.00000000e+00,\n",
       "          0.00000000e+00,   0.00000000e+00,   1.00000000e+00,\n",
       "          0.00000000e+00,   1.00000000e+00,   0.00000000e+00,\n",
       "          0.00000000e+00,   0.00000000e+00,   0.00000000e+00,\n",
       "          0.00000000e+00,   2.00000000e+00,   0.00000000e+00,\n",
       "          0.00000000e+00,   0.00000000e+00,   0.00000000e+00,\n",
       "          0.00000000e+00,   0.00000000e+00,   0.00000000e+00,\n",
       "          0.00000000e+00,   0.00000000e+00,   1.00000000e+00,\n",
       "          0.00000000e+00,   0.00000000e+00,   0.00000000e+00,\n",
       "          0.00000000e+00,   0.00000000e+00,   1.00000000e+00,\n",
       "          0.00000000e+00,   0.00000000e+00,   0.00000000e+00,\n",
       "          0.00000000e+00,   0.00000000e+00,   0.00000000e+00,\n",
       "          0.00000000e+00,   0.00000000e+00,   0.00000000e+00,\n",
       "          0.00000000e+00,   0.00000000e+00,   0.00000000e+00,\n",
       "          0.00000000e+00,   0.00000000e+00,   0.00000000e+00,\n",
       "          0.00000000e+00,   1.00000000e+00,   0.00000000e+00,\n",
       "          0.00000000e+00,   0.00000000e+00,   0.00000000e+00,\n",
       "          0.00000000e+00,   0.00000000e+00,   0.00000000e+00,\n",
       "          0.00000000e+00,   0.00000000e+00,   0.00000000e+00,\n",
       "          1.00000000e+00]),\n",
       " array([  6.70000000e-01,   1.21078580e+03,   2.42090160e+03,\n",
       "          3.63101740e+03,   4.84113320e+03,   6.05124900e+03,\n",
       "          7.26136480e+03,   8.47148060e+03,   9.68159640e+03,\n",
       "          1.08917122e+04,   1.21018280e+04,   1.33119438e+04,\n",
       "          1.45220596e+04,   1.57321754e+04,   1.69422912e+04,\n",
       "          1.81524070e+04,   1.93625228e+04,   2.05726386e+04,\n",
       "          2.17827544e+04,   2.29928702e+04,   2.42029860e+04,\n",
       "          2.54131018e+04,   2.66232176e+04,   2.78333334e+04,\n",
       "          2.90434492e+04,   3.02535650e+04,   3.14636808e+04,\n",
       "          3.26737966e+04,   3.38839124e+04,   3.50940282e+04,\n",
       "          3.63041440e+04,   3.75142598e+04,   3.87243756e+04,\n",
       "          3.99344914e+04,   4.11446072e+04,   4.23547230e+04,\n",
       "          4.35648388e+04,   4.47749546e+04,   4.59850704e+04,\n",
       "          4.71951862e+04,   4.84053020e+04,   4.96154178e+04,\n",
       "          5.08255336e+04,   5.20356494e+04,   5.32457652e+04,\n",
       "          5.44558810e+04,   5.56659968e+04,   5.68761126e+04,\n",
       "          5.80862284e+04,   5.92963442e+04,   6.05064600e+04,\n",
       "          6.17165758e+04,   6.29266916e+04,   6.41368074e+04,\n",
       "          6.53469232e+04,   6.65570390e+04,   6.77671548e+04,\n",
       "          6.89772706e+04,   7.01873864e+04,   7.13975022e+04,\n",
       "          7.26076180e+04,   7.38177338e+04,   7.50278496e+04,\n",
       "          7.62379654e+04,   7.74480812e+04,   7.86581970e+04,\n",
       "          7.98683128e+04,   8.10784286e+04,   8.22885444e+04,\n",
       "          8.34986602e+04,   8.47087760e+04,   8.59188918e+04,\n",
       "          8.71290076e+04,   8.83391234e+04,   8.95492392e+04,\n",
       "          9.07593550e+04,   9.19694708e+04,   9.31795866e+04,\n",
       "          9.43897024e+04,   9.55998182e+04,   9.68099340e+04,\n",
       "          9.80200498e+04,   9.92301656e+04,   1.00440281e+05,\n",
       "          1.01650397e+05,   1.02860513e+05,   1.04070629e+05,\n",
       "          1.05280745e+05,   1.06490860e+05,   1.07700976e+05,\n",
       "          1.08911092e+05,   1.10121208e+05,   1.11331324e+05,\n",
       "          1.12541439e+05,   1.13751555e+05,   1.14961671e+05,\n",
       "          1.16171787e+05,   1.17381903e+05,   1.18592018e+05,\n",
       "          1.19802134e+05,   1.21012250e+05]),\n",
       " <a list of 100 Patch objects>)"
      ]
     },
     "execution_count": 9,
     "metadata": {},
     "output_type": "execute_result"
    }
   ],
   "source": [
    "_"
   ]
  },
  {
   "cell_type": "markdown",
   "metadata": {},
   "source": [
    "### Distribution is skewed, let's look at target logarithm"
   ]
  },
  {
   "cell_type": "code",
   "execution_count": 12,
   "metadata": {
    "collapsed": false
   },
   "outputs": [
    {
     "data": {
      "image/png": "[encoded data removed]",
      "text/plain": [
       "<matplotlib.figure.Figure at 0x181527f0>"
      ]
     },
     "metadata": {},
     "output_type": "display_data"
    }
   ],
   "source": [
    "import numpy as np\n",
    "_ = plt.hist(np.log(train['loss']), bins = 100, log = True)"
   ]
  },
  {
   "cell_type": "markdown",
   "metadata": {},
   "source": [
    "### How dataset features looks like? "
   ]
  },
  {
   "cell_type": "code",
   "execution_count": 13,
   "metadata": {
    "collapsed": false,
    "scrolled": false
   },
   "outputs": [
    {
     "name": "stdout",
     "output_type": "stream",
     "text": [
      "id 188318\n",
      "cat1 ['A' 'B']\n",
      "cat2 ['A' 'B']\n",
      "cat3 ['A' 'B']\n",
      "cat4 ['A' 'B']\n",
      "cat5 ['A' 'B']\n",
      "cat6 ['A' 'B']\n",
      "cat7 ['A' 'B']\n",
      "cat8 ['A' 'B']\n",
      "cat9 ['A' 'B']\n",
      "cat10 ['A' 'B']\n",
      "cat11 ['A' 'B']\n",
      "cat12 ['A' 'B']\n",
      "cat13 ['A' 'B']\n",
      "cat14 ['A' 'B']\n",
      "cat15 ['A' 'B']\n",
      "cat16 ['A' 'B']\n",
      "cat17 ['A' 'B']\n",
      "cat18 ['A' 'B']\n",
      "cat19 ['A' 'B']\n",
      "cat20 ['A' 'B']\n",
      "cat21 ['A' 'B']\n",
      "cat22 ['A' 'B']\n",
      "cat23 ['A' 'B']\n",
      "cat24 ['A' 'B']\n",
      "cat25 ['A' 'B']\n",
      "cat26 ['A' 'B']\n",
      "cat27 ['A' 'B']\n",
      "cat28 ['A' 'B']\n",
      "cat29 ['A' 'B']\n",
      "cat30 ['A' 'B']\n",
      "cat31 ['A' 'B']\n",
      "cat32 ['A' 'B']\n",
      "cat33 ['A' 'B']\n",
      "cat34 ['A' 'B']\n",
      "cat35 ['A' 'B']\n",
      "cat36 ['A' 'B']\n",
      "cat37 ['A' 'B']\n",
      "cat38 ['A' 'B']\n",
      "cat39 ['A' 'B']\n",
      "cat40 ['A' 'B']\n",
      "cat41 ['A' 'B']\n",
      "cat42 ['A' 'B']\n",
      "cat43 ['A' 'B']\n",
      "cat44 ['A' 'B']\n",
      "cat45 ['A' 'B']\n",
      "cat46 ['A' 'B']\n",
      "cat47 ['A' 'B']\n",
      "cat48 ['A' 'B']\n",
      "cat49 ['A' 'B']\n",
      "cat50 ['A' 'B']\n",
      "cat51 ['A' 'B']\n",
      "cat52 ['A' 'B']\n",
      "cat53 ['A' 'B']\n",
      "cat54 ['A' 'B']\n",
      "cat55 ['A' 'B']\n",
      "cat56 ['A' 'B']\n",
      "cat57 ['A' 'B']\n",
      "cat58 ['A' 'B']\n",
      "cat59 ['A' 'B']\n",
      "cat60 ['A' 'B']\n",
      "cat61 ['A' 'B']\n",
      "cat62 ['A' 'B']\n",
      "cat63 ['A' 'B']\n",
      "cat64 ['A' 'B']\n",
      "cat65 ['A' 'B']\n",
      "cat66 ['A' 'B']\n",
      "cat67 ['A' 'B']\n",
      "cat68 ['A' 'B']\n",
      "cat69 ['A' 'B']\n",
      "cat70 ['A' 'B']\n",
      "cat71 ['A' 'B']\n",
      "cat72 ['A' 'B']\n",
      "cat73 ['A' 'B' 'C']\n",
      "cat74 ['A' 'B' 'C']\n",
      "cat75 ['A' 'B' 'C']\n",
      "cat76 ['A' 'B' 'C']\n",
      "cat77 ['A' 'B' 'C' 'D']\n",
      "cat78 ['A' 'B' 'C' 'D']\n",
      "cat79 ['A' 'B' 'C' 'D']\n",
      "cat80 ['A' 'B' 'C' 'D']\n",
      "cat81 ['A' 'B' 'C' 'D']\n",
      "cat82 ['A' 'B' 'C' 'D']\n",
      "cat83 ['A' 'B' 'C' 'D']\n",
      "cat84 ['A' 'B' 'C' 'D']\n",
      "cat85 ['A' 'B' 'C' 'D']\n",
      "cat86 ['A' 'B' 'C' 'D']\n",
      "cat87 ['A' 'B' 'C' 'D']\n",
      "cat88 ['A' 'B' 'D' 'E']\n",
      "cat89 ['A' 'B' 'C' 'D' 'E' 'G' 'H' 'I']\n",
      "cat90 ['A' 'B' 'C' 'D' 'E' 'F' 'G']\n",
      "cat91 ['A' 'B' 'C' 'D' 'E' 'F' 'G' 'H']\n",
      "cat92 ['A' 'B' 'C' 'D' 'F' 'H' 'I']\n",
      "cat93 ['A' 'B' 'C' 'D' 'E']\n",
      "cat94 ['A' 'B' 'C' 'D' 'E' 'F' 'G']\n",
      "cat95 ['A' 'B' 'C' 'D' 'E']\n",
      "cat96 ['A' 'B' 'C' 'D' 'E' 'F' 'G' 'I']\n",
      "cat97 ['A' 'B' 'C' 'D' 'E' 'F' 'G']\n",
      "cat98 ['A' 'B' 'C' 'D' 'E']\n",
      "cat99 ['C' 'D' 'E' 'F' 'G' 'H' 'I' 'J' 'K' 'M' 'N' 'O' 'P' 'R' 'S' 'T']\n",
      "cat100 ['A' 'B' 'C' 'D' 'E' 'F' 'G' 'H' 'I' 'J' 'K' 'L' 'M' 'N' 'O']\n",
      "cat101 ['A' 'B' 'C' 'D' 'E' 'F' 'G' 'H' 'I' 'J' 'K' 'L' 'M' 'N' 'O' 'Q' 'R' 'S'\n",
      " 'U']\n",
      "cat102 ['A' 'B' 'C' 'D' 'E' 'F' 'G' 'H' 'J']\n",
      "cat103 ['A' 'B' 'C' 'D' 'E' 'F' 'G' 'H' 'I' 'J' 'K' 'L' 'N']\n",
      "cat104 ['A' 'B' 'C' 'D' 'E' 'F' 'G' 'H' 'I' 'J' 'K' 'L' 'M' 'N' 'O' 'P' 'Q']\n",
      "cat105 ['A' 'B' 'C' 'D' 'E' 'F' 'G' 'H' 'I' 'J' 'K' 'L' 'M' 'N' 'O' 'P' 'Q' 'R'\n",
      " 'S' 'T']\n",
      "cat106 ['A' 'B' 'C' 'D' 'E' 'F' 'G' 'H' 'I' 'J' 'K' 'L' 'M' 'N' 'O' 'P' 'R']\n",
      "cat107 ['A' 'B' 'C' 'D' 'E' 'F' 'G' 'H' 'I' 'J' 'K' 'L' 'M' 'N' 'O' 'P' 'Q' 'R'\n",
      " 'S' 'U']\n",
      "cat108 ['A' 'B' 'C' 'D' 'E' 'F' 'G' 'H' 'I' 'J' 'K']\n",
      "cat109 84\n",
      "cat110 131\n",
      "cat111 ['A' 'B' 'C' 'D' 'E' 'F' 'G' 'I' 'K' 'M' 'O' 'Q' 'S' 'U' 'W' 'Y']\n",
      "cat112 ['A' 'AA' 'AB' 'AC' 'AD' 'AE' 'AF' 'AG' 'AH' 'AI' 'AJ' 'AK' 'AL' 'AM' 'AN'\n",
      " 'AO' 'AP' 'AQ' 'AR' 'AS' 'AT' 'AU' 'AV' 'AW' 'AX' 'AY' 'B' 'BA' 'C' 'D'\n",
      " 'E' 'F' 'G' 'H' 'I' 'J' 'K' 'L' 'M' 'N' 'O' 'P' 'Q' 'R' 'S' 'T' 'U' 'V'\n",
      " 'W' 'X' 'Y']\n",
      "cat113 61\n",
      "cat114 ['A' 'B' 'C' 'D' 'E' 'F' 'G' 'I' 'J' 'L' 'N' 'O' 'Q' 'R' 'S' 'U' 'V' 'W'\n",
      " 'X']\n",
      "cat115 ['A' 'B' 'C' 'D' 'E' 'F' 'G' 'H' 'I' 'J' 'K' 'L' 'M' 'N' 'O' 'P' 'Q' 'R'\n",
      " 'S' 'T' 'U' 'W' 'X']\n",
      "cat116 326\n",
      "cont1 647\n",
      "cont2 [ 0.001149  0.001503  0.001966  0.002571  0.003362  0.004394  0.005742\n",
      "  0.007501  0.009792  0.012775  0.016651  0.021677  0.028177  0.036553\n",
      "  0.047297  0.061     0.078346  0.100099  0.127059  0.15999   0.199504\n",
      "  0.245921  0.299102  0.358319  0.422197  0.488789  0.555782  0.620805\n",
      "  0.681761  0.737068  0.785784  0.827585  0.862654]\n",
      "cont3 76\n",
      "cont4 112\n",
      "cont5 141\n",
      "cont6 2573\n",
      "cont7 5632\n",
      "cont8 201\n",
      "cont9 347\n",
      "cont10 174\n",
      "cont11 326\n",
      "cont12 328\n",
      "cont13 353\n",
      "cont14 18740\n",
      "loss 158223\n"
     ]
    }
   ],
   "source": [
    "for column in train.columns :\n",
    "    if train[column].nunique() < 60 :\n",
    "        print (column, np.array(sorted(train[column].unique())) )\n",
    "    else :\n",
    "        print (column, train[column].nunique() )"
   ]
  },
  {
   "cell_type": "markdown",
   "metadata": {},
   "source": [
    "### Most of categorical features have a small number of distinct values\n",
    "### Numerical features also have not so many distinct values\n",
    "### Let's encode categorical features to numbers"
   ]
  },
  {
   "cell_type": "code",
   "execution_count": 14,
   "metadata": {
    "collapsed": true
   },
   "outputs": [],
   "source": [
    "all_data = pd.concat([train, test])"
   ]
  },
  {
   "cell_type": "code",
   "execution_count": 15,
   "metadata": {
    "collapsed": false
   },
   "outputs": [
    {
     "data": {
      "text/html": [
       "<div>\n",
       "<table border=\"1\" class=\"dataframe\">\n",
       "  <thead>\n",
       "    <tr style=\"text-align: right;\">\n",
       "      <th></th>\n",
       "      <th>cat1</th>\n",
       "      <th>cat10</th>\n",
       "      <th>cat100</th>\n",
       "      <th>cat101</th>\n",
       "      <th>cat102</th>\n",
       "      <th>cat103</th>\n",
       "      <th>cat104</th>\n",
       "      <th>cat105</th>\n",
       "      <th>cat106</th>\n",
       "      <th>cat107</th>\n",
       "      <th>...</th>\n",
       "      <th>cont2</th>\n",
       "      <th>cont3</th>\n",
       "      <th>cont4</th>\n",
       "      <th>cont5</th>\n",
       "      <th>cont6</th>\n",
       "      <th>cont7</th>\n",
       "      <th>cont8</th>\n",
       "      <th>cont9</th>\n",
       "      <th>id</th>\n",
       "      <th>loss</th>\n",
       "    </tr>\n",
       "  </thead>\n",
       "  <tbody>\n",
       "    <tr>\n",
       "      <th>0</th>\n",
       "      <td>0</td>\n",
       "      <td>0</td>\n",
       "      <td>1</td>\n",
       "      <td>6</td>\n",
       "      <td>0</td>\n",
       "      <td>0</td>\n",
       "      <td>8</td>\n",
       "      <td>4</td>\n",
       "      <td>6</td>\n",
       "      <td>9</td>\n",
       "      <td>...</td>\n",
       "      <td>0.245921</td>\n",
       "      <td>0.187583</td>\n",
       "      <td>0.789639</td>\n",
       "      <td>0.310061</td>\n",
       "      <td>0.718367</td>\n",
       "      <td>0.335060</td>\n",
       "      <td>0.30260</td>\n",
       "      <td>0.67135</td>\n",
       "      <td>1</td>\n",
       "      <td>2213.18</td>\n",
       "    </tr>\n",
       "    <tr>\n",
       "      <th>1</th>\n",
       "      <td>0</td>\n",
       "      <td>1</td>\n",
       "      <td>11</td>\n",
       "      <td>5</td>\n",
       "      <td>0</td>\n",
       "      <td>0</td>\n",
       "      <td>4</td>\n",
       "      <td>4</td>\n",
       "      <td>8</td>\n",
       "      <td>10</td>\n",
       "      <td>...</td>\n",
       "      <td>0.737068</td>\n",
       "      <td>0.592681</td>\n",
       "      <td>0.614134</td>\n",
       "      <td>0.885834</td>\n",
       "      <td>0.438917</td>\n",
       "      <td>0.436585</td>\n",
       "      <td>0.60087</td>\n",
       "      <td>0.35127</td>\n",
       "      <td>2</td>\n",
       "      <td>1283.60</td>\n",
       "    </tr>\n",
       "    <tr>\n",
       "      <th>2</th>\n",
       "      <td>0</td>\n",
       "      <td>1</td>\n",
       "      <td>11</td>\n",
       "      <td>14</td>\n",
       "      <td>0</td>\n",
       "      <td>1</td>\n",
       "      <td>4</td>\n",
       "      <td>5</td>\n",
       "      <td>7</td>\n",
       "      <td>5</td>\n",
       "      <td>...</td>\n",
       "      <td>0.358319</td>\n",
       "      <td>0.484196</td>\n",
       "      <td>0.236924</td>\n",
       "      <td>0.397069</td>\n",
       "      <td>0.289648</td>\n",
       "      <td>0.315545</td>\n",
       "      <td>0.27320</td>\n",
       "      <td>0.26076</td>\n",
       "      <td>5</td>\n",
       "      <td>3005.09</td>\n",
       "    </tr>\n",
       "    <tr>\n",
       "      <th>3</th>\n",
       "      <td>1</td>\n",
       "      <td>0</td>\n",
       "      <td>8</td>\n",
       "      <td>3</td>\n",
       "      <td>0</td>\n",
       "      <td>0</td>\n",
       "      <td>4</td>\n",
       "      <td>4</td>\n",
       "      <td>8</td>\n",
       "      <td>10</td>\n",
       "      <td>...</td>\n",
       "      <td>0.555782</td>\n",
       "      <td>0.527991</td>\n",
       "      <td>0.373816</td>\n",
       "      <td>0.422268</td>\n",
       "      <td>0.440945</td>\n",
       "      <td>0.391128</td>\n",
       "      <td>0.31796</td>\n",
       "      <td>0.32128</td>\n",
       "      <td>10</td>\n",
       "      <td>939.85</td>\n",
       "    </tr>\n",
       "    <tr>\n",
       "      <th>4</th>\n",
       "      <td>0</td>\n",
       "      <td>1</td>\n",
       "      <td>5</td>\n",
       "      <td>9</td>\n",
       "      <td>0</td>\n",
       "      <td>0</td>\n",
       "      <td>3</td>\n",
       "      <td>4</td>\n",
       "      <td>10</td>\n",
       "      <td>6</td>\n",
       "      <td>...</td>\n",
       "      <td>0.159990</td>\n",
       "      <td>0.527991</td>\n",
       "      <td>0.473202</td>\n",
       "      <td>0.704268</td>\n",
       "      <td>0.178193</td>\n",
       "      <td>0.247408</td>\n",
       "      <td>0.24564</td>\n",
       "      <td>0.22089</td>\n",
       "      <td>11</td>\n",
       "      <td>2763.85</td>\n",
       "    </tr>\n",
       "  </tbody>\n",
       "</table>\n",
       "<p>5 rows × 132 columns</p>\n",
       "</div>"
      ],
      "text/plain": [
       "   cat1  cat10  cat100  cat101  cat102  cat103  cat104  cat105  cat106  \\\n",
       "0     0      0       1       6       0       0       8       4       6   \n",
       "1     0      1      11       5       0       0       4       4       8   \n",
       "2     0      1      11      14       0       1       4       5       7   \n",
       "3     1      0       8       3       0       0       4       4       8   \n",
       "4     0      1       5       9       0       0       3       4      10   \n",
       "\n",
       "   cat107   ...        cont2     cont3     cont4     cont5     cont6  \\\n",
       "0       9   ...     0.245921  0.187583  0.789639  0.310061  0.718367   \n",
       "1      10   ...     0.737068  0.592681  0.614134  0.885834  0.438917   \n",
       "2       5   ...     0.358319  0.484196  0.236924  0.397069  0.289648   \n",
       "3      10   ...     0.555782  0.527991  0.373816  0.422268  0.440945   \n",
       "4       6   ...     0.159990  0.527991  0.473202  0.704268  0.178193   \n",
       "\n",
       "      cont7    cont8    cont9  id     loss  \n",
       "0  0.335060  0.30260  0.67135   1  2213.18  \n",
       "1  0.436585  0.60087  0.35127   2  1283.60  \n",
       "2  0.315545  0.27320  0.26076   5  3005.09  \n",
       "3  0.391128  0.31796  0.32128  10   939.85  \n",
       "4  0.247408  0.24564  0.22089  11  2763.85  \n",
       "\n",
       "[5 rows x 132 columns]"
      ]
     },
     "execution_count": 15,
     "metadata": {},
     "output_type": "execute_result"
    }
   ],
   "source": [
    "from sklearn.preprocessing import LabelEncoder\n",
    "\n",
    "for column in all_data :\n",
    "    encoder = LabelEncoder()\n",
    "    if column.startswith('cat') :\n",
    "        all_data[column] = encoder.fit_transform(all_data[column])\n",
    "        \n",
    "all_data[:5]"
   ]
  },
  {
   "cell_type": "code",
   "execution_count": 16,
   "metadata": {
    "collapsed": false
   },
   "outputs": [
    {
     "data": {
      "text/plain": [
       "((188318, 132), 188318, (313864, 132))"
      ]
     },
     "execution_count": 16,
     "metadata": {},
     "output_type": "execute_result"
    }
   ],
   "source": [
    "train.shape, train.shape[0] , all_data.shape"
   ]
  },
  {
   "cell_type": "code",
   "execution_count": 17,
   "metadata": {
    "collapsed": true
   },
   "outputs": [],
   "source": [
    "train = all_data[:train.shape[0]]\n",
    "test = all_data[train.shape[0]:]"
   ]
  },
  {
   "cell_type": "markdown",
   "metadata": {},
   "source": [
    "### Hold out set for parameters tuning "
   ]
  },
  {
   "cell_type": "code",
   "execution_count": 18,
   "metadata": {
    "collapsed": false
   },
   "outputs": [],
   "source": [
    "from sklearn.model_selection import train_test_split"
   ]
  },
  {
   "cell_type": "code",
   "execution_count": 19,
   "metadata": {
    "collapsed": false
   },
   "outputs": [],
   "source": [
    "from sklearn.model_selection import train_test_split\n",
    "\n",
    "train_local, validation = train_test_split(\n",
    "    train, \n",
    "    test_size = 0.2, \n",
    "    random_state = 0\n",
    ")"
   ]
  },
  {
   "cell_type": "markdown",
   "metadata": {},
   "source": [
    "### Find the best constant result"
   ]
  },
  {
   "cell_type": "code",
   "execution_count": 20,
   "metadata": {
    "collapsed": false
   },
   "outputs": [
    {
     "name": "stdout",
     "output_type": "stream",
     "text": [
      "Min error: 1807.09, optimal constant prediction: 2110.00\n",
      "Mean target: 3040.71, median target: 2114.15\n"
     ]
    }
   ],
   "source": [
    "from sklearn.metrics import mean_absolute_error\n",
    "\n",
    "scores = []\n",
    "\n",
    "for C in np.linspace(1000, 4000, 301) :\n",
    "    p = np.ones(validation.shape[0]) * C\n",
    "    score = mean_absolute_error(p, validation['loss'])\n",
    "    scores.append((score, C))\n",
    "\n",
    "print ('Min error: %.2f, optimal constant prediction: %.2f' % min(scores) )\n",
    "print ('Mean target: %.2f, median target: %.2f' % (validation['loss'].mean(), validation['loss'].median()) )"
   ]
  },
  {
   "cell_type": "markdown",
   "metadata": {},
   "source": [
    "## Let's try GBDT model"
   ]
  },
  {
   "cell_type": "code",
   "execution_count": 21,
   "metadata": {
    "collapsed": false
   },
   "outputs": [
    {
     "data": {
      "text/plain": [
       "array(['cat1', 'cat10', 'cat100', 'cat101', 'cat102', 'cat103', 'cat104',\n",
       "       'cat105', 'cat106', 'cat107', 'cat108', 'cat109', 'cat11', 'cat110',\n",
       "       'cat111', 'cat112', 'cat113', 'cat114', 'cat115', 'cat116', 'cat12',\n",
       "       'cat13', 'cat14', 'cat15', 'cat16', 'cat17', 'cat18', 'cat19',\n",
       "       'cat2', 'cat20', 'cat21', 'cat22', 'cat23', 'cat24', 'cat25',\n",
       "       'cat26', 'cat27', 'cat28', 'cat29', 'cat3', 'cat30', 'cat31',\n",
       "       'cat32', 'cat33', 'cat34', 'cat35', 'cat36', 'cat37', 'cat38',\n",
       "       'cat39', 'cat4', 'cat40', 'cat41', 'cat42', 'cat43', 'cat44',\n",
       "       'cat45', 'cat46', 'cat47', 'cat48', 'cat49', 'cat5', 'cat50',\n",
       "       'cat51', 'cat52', 'cat53', 'cat54', 'cat55', 'cat56', 'cat57',\n",
       "       'cat58', 'cat59', 'cat6', 'cat60', 'cat61', 'cat62', 'cat63',\n",
       "       'cat64', 'cat65', 'cat66', 'cat67', 'cat68', 'cat69', 'cat7',\n",
       "       'cat70', 'cat71', 'cat72', 'cat73', 'cat74', 'cat75', 'cat76',\n",
       "       'cat77', 'cat78', 'cat79', 'cat8', 'cat80', 'cat81', 'cat82',\n",
       "       'cat83', 'cat84', 'cat85', 'cat86', 'cat87', 'cat88', 'cat89',\n",
       "       'cat9', 'cat90', 'cat91', 'cat92', 'cat93', 'cat94', 'cat95',\n",
       "       'cat96', 'cat97', 'cat98', 'cat99', 'cont1', 'cont10', 'cont11',\n",
       "       'cont12', 'cont13', 'cont14', 'cont2', 'cont3', 'cont4', 'cont5',\n",
       "       'cont6', 'cont7', 'cont8', 'cont9', 'id'], \n",
       "      dtype='<U6')"
      ]
     },
     "execution_count": 21,
     "metadata": {},
     "output_type": "execute_result"
    }
   ],
   "source": [
    "features = np.array([column for column in all_data.columns if column != 'loss'])\n",
    "features"
   ]
  },
  {
   "cell_type": "code",
   "execution_count": 22,
   "metadata": {
    "collapsed": true
   },
   "outputs": [],
   "source": [
    "from xgboost import XGBRegressor"
   ]
  },
  {
   "cell_type": "code",
   "execution_count": 23,
   "metadata": {
    "collapsed": true
   },
   "outputs": [],
   "source": [
    "model = XGBRegressor(max_depth = 6, learning_rate = 0.2, n_estimators = 1000)"
   ]
  },
  {
   "cell_type": "code",
   "execution_count": 24,
   "metadata": {
    "collapsed": false
   },
   "outputs": [
    {
     "name": "stdout",
     "output_type": "stream",
     "text": [
      "Wall time: 5min 43s\n"
     ]
    },
    {
     "data": {
      "text/plain": [
       "XGBRegressor(base_score=0.5, colsample_bylevel=1, colsample_bytree=1, gamma=0,\n",
       "       learning_rate=0.2, max_delta_step=0, max_depth=6,\n",
       "       min_child_weight=1, missing=None, n_estimators=1000, nthread=-1,\n",
       "       objective='reg:linear', reg_alpha=0, reg_lambda=1,\n",
       "       scale_pos_weight=1, seed=0, silent=True, subsample=1)"
      ]
     },
     "execution_count": 24,
     "metadata": {},
     "output_type": "execute_result"
    }
   ],
   "source": [
    "%%time \n",
    "\n",
    "model.fit(\n",
    "    train_local[features].values, \n",
    "    train_local['loss'].values, \n",
    "    eval_set = [(validation[features].values, validation['loss'].values)], \n",
    "    early_stopping_rounds = 5,\n",
    "    verbose = False,\n",
    ")"
   ]
  },
  {
   "cell_type": "code",
   "execution_count": 25,
   "metadata": {
    "collapsed": false
   },
   "outputs": [
    {
     "data": {
      "text/plain": [
       "1198.6463315227788"
      ]
     },
     "execution_count": 25,
     "metadata": {},
     "output_type": "execute_result"
    }
   ],
   "source": [
    "p = model.predict(validation[features].values)\n",
    "\n",
    "score = mean_absolute_error(p, validation['loss'])\n",
    "score"
   ]
  },
  {
   "cell_type": "markdown",
   "metadata": {},
   "source": [
    "### Let's submit this result to a leaderboard"
   ]
  },
  {
   "cell_type": "code",
   "execution_count": 26,
   "metadata": {
    "collapsed": false
   },
   "outputs": [
    {
     "name": "stderr",
     "output_type": "stream",
     "text": [
      "C:\\Users\\Andrea\\Anaconda3\\lib\\site-packages\\pandas\\core\\indexing.py:465: SettingWithCopyWarning: \n",
      "A value is trying to be set on a copy of a slice from a DataFrame.\n",
      "Try using .loc[row_indexer,col_indexer] = value instead\n",
      "\n",
      "See the caveats in the documentation: http://pandas.pydata.org/pandas-docs/stable/indexing.html#indexing-view-versus-copy\n",
      "  self.obj[item] = s\n"
     ]
    }
   ],
   "source": [
    "test.loc[:, 'loss'] = model.predict(test[features].values)"
   ]
  },
  {
   "cell_type": "code",
   "execution_count": 27,
   "metadata": {
    "collapsed": false
   },
   "outputs": [],
   "source": [
    "test[['id', 'loss']].to_csv('xgboost_basic.csv', index = False)\n",
    "!gzip -f xgboost_basic.csv"
   ]
  },
  {
   "cell_type": "markdown",
   "metadata": {},
   "source": [
    "### Public leaderboard is 1181.1 (Validation 1200.1) with 1000+ place\n",
    "### Let's fit again the model with the whole train set"
   ]
  },
  {
   "cell_type": "code",
   "execution_count": 28,
   "metadata": {
    "collapsed": false
   },
   "outputs": [
    {
     "data": {
      "text/plain": [
       "107"
      ]
     },
     "execution_count": 28,
     "metadata": {},
     "output_type": "execute_result"
    }
   ],
   "source": [
    "# Change estimators number\n",
    "# We add 10% more iterations to compensate more examples in the train set than in the train_local set\n",
    "model.n_estimators = int(model.best_iteration / 0.9)\n",
    "model.n_estimators"
   ]
  },
  {
   "cell_type": "code",
   "execution_count": 29,
   "metadata": {
    "collapsed": false
   },
   "outputs": [
    {
     "name": "stderr",
     "output_type": "stream",
     "text": [
      "C:\\Users\\Andrea\\Anaconda3\\lib\\site-packages\\pandas\\core\\indexing.py:465: SettingWithCopyWarning: \n",
      "A value is trying to be set on a copy of a slice from a DataFrame.\n",
      "Try using .loc[row_indexer,col_indexer] = value instead\n",
      "\n",
      "See the caveats in the documentation: http://pandas.pydata.org/pandas-docs/stable/indexing.html#indexing-view-versus-copy\n",
      "  self.obj[item] = s\n"
     ]
    }
   ],
   "source": [
    "model.fit(train[features].values, train['loss'].values)\n",
    "\n",
    "test.loc[:, 'loss'] = model.predict(test[features].values)\n",
    "test[['id', 'loss']].to_csv('xgboost_basic_full.csv', index = False)\n",
    "!gzip -f xgboost_basic_full.csv"
   ]
  },
  {
   "cell_type": "markdown",
   "metadata": {},
   "source": [
    "### Public leaderboard is 1177.2 (Validation 1200.1). Still 1000+ place\n",
    "### Let's log-transform the target. Experience shows that this helps when you need to optimize MAE error"
   ]
  },
  {
   "cell_type": "code",
   "execution_count": 30,
   "metadata": {
    "collapsed": true
   },
   "outputs": [],
   "source": [
    "# Increase iterations number and max depth, decrease learning rate. Without justification\n",
    "\n",
    "model = XGBRegressor(max_depth = 8, learning_rate = 0.1, n_estimators = 1000, silent = False)"
   ]
  },
  {
   "cell_type": "code",
   "execution_count": 31,
   "metadata": {
    "collapsed": false
   },
   "outputs": [
    {
     "name": "stdout",
     "output_type": "stream",
     "text": [
      "Wall time: 5min 9s\n"
     ]
    },
    {
     "data": {
      "text/plain": [
       "XGBRegressor(base_score=0.5, colsample_bylevel=1, colsample_bytree=1, gamma=0,\n",
       "       learning_rate=0.1, max_delta_step=0, max_depth=8,\n",
       "       min_child_weight=1, missing=None, n_estimators=1000, nthread=-1,\n",
       "       objective='reg:linear', reg_alpha=0, reg_lambda=1,\n",
       "       scale_pos_weight=1, seed=0, silent=False, subsample=1)"
      ]
     },
     "execution_count": 31,
     "metadata": {},
     "output_type": "execute_result"
    }
   ],
   "source": [
    "%%time \n",
    "\n",
    "model.fit(\n",
    "    train_local[features].values, \n",
    "    np.log(train_local['loss'].values), \n",
    "    eval_set = [(\n",
    "        validation[features].values, \n",
    "        np.log(validation['loss'].values)\n",
    "    )], \n",
    "    early_stopping_rounds = 5,\n",
    "    verbose = False,\n",
    ")"
   ]
  },
  {
   "cell_type": "code",
   "execution_count": 32,
   "metadata": {
    "collapsed": false
   },
   "outputs": [
    {
     "data": {
      "text/plain": [
       "1154.8495130202518"
      ]
     },
     "execution_count": 32,
     "metadata": {},
     "output_type": "execute_result"
    }
   ],
   "source": [
    "p = np.exp(model.predict(validation[features].values))\n",
    "\n",
    "score = mean_absolute_error(p, validation['loss'])\n",
    "score"
   ]
  },
  {
   "cell_type": "code",
   "execution_count": 33,
   "metadata": {
    "collapsed": false
   },
   "outputs": [
    {
     "name": "stderr",
     "output_type": "stream",
     "text": [
      "C:\\Users\\Andrea\\Anaconda3\\lib\\site-packages\\pandas\\core\\indexing.py:288: SettingWithCopyWarning: \n",
      "A value is trying to be set on a copy of a slice from a DataFrame.\n",
      "Try using .loc[row_indexer,col_indexer] = value instead\n",
      "\n",
      "See the caveats in the documentation: http://pandas.pydata.org/pandas-docs/stable/indexing.html#indexing-view-versus-copy\n",
      "  self.obj[key] = _infer_fill_value(value)\n",
      "C:\\Users\\Andrea\\Anaconda3\\lib\\site-packages\\pandas\\core\\indexing.py:465: SettingWithCopyWarning: \n",
      "A value is trying to be set on a copy of a slice from a DataFrame.\n",
      "Try using .loc[row_indexer,col_indexer] = value instead\n",
      "\n",
      "See the caveats in the documentation: http://pandas.pydata.org/pandas-docs/stable/indexing.html#indexing-view-versus-copy\n",
      "  self.obj[item] = s\n"
     ]
    }
   ],
   "source": [
    "validation.loc[:, 'loss_xgboost'] = p"
   ]
  },
  {
   "cell_type": "code",
   "execution_count": 34,
   "metadata": {
    "collapsed": false
   },
   "outputs": [
    {
     "data": {
      "text/plain": [
       "185"
      ]
     },
     "execution_count": 34,
     "metadata": {},
     "output_type": "execute_result"
    }
   ],
   "source": [
    "model.n_estimators = int(model.best_iteration / 0.9)\n",
    "model.n_estimators"
   ]
  },
  {
   "cell_type": "code",
   "execution_count": 35,
   "metadata": {
    "collapsed": false
   },
   "outputs": [
    {
     "name": "stderr",
     "output_type": "stream",
     "text": [
      "C:\\Users\\Andrea\\Anaconda3\\lib\\site-packages\\pandas\\core\\indexing.py:465: SettingWithCopyWarning: \n",
      "A value is trying to be set on a copy of a slice from a DataFrame.\n",
      "Try using .loc[row_indexer,col_indexer] = value instead\n",
      "\n",
      "See the caveats in the documentation: http://pandas.pydata.org/pandas-docs/stable/indexing.html#indexing-view-versus-copy\n",
      "  self.obj[item] = s\n"
     ]
    }
   ],
   "source": [
    "model.fit(train[features].values, np.log(train['loss'].values))\n",
    "test.loc[:, 'loss'] = np.exp(model.predict(test[features].values))\n",
    "test[['id', 'loss']].to_csv('xgboost_log_transform.csv', index = False)\n",
    "\n",
    "!gzip -f xgboost_log_transform.csv"
   ]
  },
  {
   "cell_type": "markdown",
   "metadata": {},
   "source": [
    "### 1130.8 (Validation 1157.0) with ~750 place, much better\n",
    "## Other trick is to multiply prediction by a constant to compensate difference between MAE and MSE"
   ]
  },
  {
   "cell_type": "code",
   "execution_count": 36,
   "metadata": {
    "collapsed": false
   },
   "outputs": [],
   "source": [
    "p = validation['loss_xgboost'] "
   ]
  },
  {
   "cell_type": "markdown",
   "metadata": {},
   "source": [
    "### Let's find an optimal multiplication constant for validation set"
   ]
  },
  {
   "cell_type": "code",
   "execution_count": 38,
   "metadata": {
    "collapsed": false
   },
   "outputs": [
    {
     "name": "stdout",
     "output_type": "stream",
     "text": [
      "Min error: 1153.63, optimal prediction multiplicator: 1.023\n"
     ]
    },
    {
     "name": "stderr",
     "output_type": "stream",
     "text": [
      "C:\\Users\\Andrea\\Anaconda3\\lib\\site-packages\\pandas\\core\\indexing.py:465: SettingWithCopyWarning: \n",
      "A value is trying to be set on a copy of a slice from a DataFrame.\n",
      "Try using .loc[row_indexer,col_indexer] = value instead\n",
      "\n",
      "See the caveats in the documentation: http://pandas.pydata.org/pandas-docs/stable/indexing.html#indexing-view-versus-copy\n",
      "  self.obj[item] = s\n"
     ]
    }
   ],
   "source": [
    "scores = []\n",
    "for prediction_multiplicator in np.linspace(0.95, 1.05, 101) :\n",
    "    score = mean_absolute_error(p * prediction_multiplicator, validation['loss'])\n",
    "    scores.append((score, prediction_multiplicator))\n",
    "\n",
    "M = min(scores)[1]\n",
    "\n",
    "validation.loc[:, 'loss_xgboost'] *= M\n",
    "print ('Min error: %.2f, optimal prediction multiplicator: %.3f' % min(scores))"
   ]
  },
  {
   "cell_type": "code",
   "execution_count": 39,
   "metadata": {
    "collapsed": false
   },
   "outputs": [
    {
     "name": "stderr",
     "output_type": "stream",
     "text": [
      "C:\\Users\\Andrea\\Anaconda3\\lib\\site-packages\\pandas\\core\\indexing.py:465: SettingWithCopyWarning: \n",
      "A value is trying to be set on a copy of a slice from a DataFrame.\n",
      "Try using .loc[row_indexer,col_indexer] = value instead\n",
      "\n",
      "See the caveats in the documentation: http://pandas.pydata.org/pandas-docs/stable/indexing.html#indexing-view-versus-copy\n",
      "  self.obj[item] = s\n"
     ]
    }
   ],
   "source": [
    "test.loc[:, 'loss'] *= M"
   ]
  },
  {
   "cell_type": "code",
   "execution_count": 40,
   "metadata": {
    "collapsed": true
   },
   "outputs": [],
   "source": [
    "test[['id', 'loss']].to_csv('xgboost_log_transform_multiplicated.csv', index = False)\n",
    "!gzip -f xgboost_log_transform_multiplicated.csv"
   ]
  },
  {
   "cell_type": "markdown",
   "metadata": {},
   "source": [
    "### 1129.3 (Validation 1155.4) with ~750 place, slightly better"
   ]
  },
  {
   "cell_type": "markdown",
   "metadata": {},
   "source": [
    "### Errors histogram: "
   ]
  },
  {
   "cell_type": "code",
   "execution_count": 41,
   "metadata": {
    "collapsed": false
   },
   "outputs": [
    {
     "data": {
      "image/png": "[encoded data removed]",
      "text/plain": [
       "<matplotlib.figure.Figure at 0xe92f588>"
      ]
     },
     "metadata": {},
     "output_type": "display_data"
    }
   ],
   "source": [
    "_ = plt.hist(\n",
    "    validation['loss'] - validation.loc[:, 'loss_xgboost'], \n",
    "    bins = 40, \n",
    "    range = [-20000, 30000], \n",
    "    log = True\n",
    ")"
   ]
  },
  {
   "cell_type": "markdown",
   "metadata": {},
   "source": [
    "## At the competition forum we can find one more beneficial transform:\n",
    "## Target offset"
   ]
  },
  {
   "cell_type": "code",
   "execution_count": 42,
   "metadata": {
    "collapsed": true
   },
   "outputs": [],
   "source": [
    "offset = 50"
   ]
  },
  {
   "cell_type": "code",
   "execution_count": 43,
   "metadata": {
    "collapsed": true
   },
   "outputs": [],
   "source": [
    "model.n_estimators = 400"
   ]
  },
  {
   "cell_type": "code",
   "execution_count": 44,
   "metadata": {
    "collapsed": false
   },
   "outputs": [
    {
     "name": "stdout",
     "output_type": "stream",
     "text": [
      "Wall time: 5min 18s\n"
     ]
    },
    {
     "data": {
      "text/plain": [
       "XGBRegressor(base_score=0.5, colsample_bylevel=1, colsample_bytree=1, gamma=0,\n",
       "       learning_rate=0.1, max_delta_step=0, max_depth=8,\n",
       "       min_child_weight=1, missing=None, n_estimators=400, nthread=-1,\n",
       "       objective='reg:linear', reg_alpha=0, reg_lambda=1,\n",
       "       scale_pos_weight=1, seed=0, silent=False, subsample=1)"
      ]
     },
     "execution_count": 44,
     "metadata": {},
     "output_type": "execute_result"
    }
   ],
   "source": [
    "%%time \n",
    "\n",
    "model.fit(\n",
    "    train_local[features].values, \n",
    "    np.log(train_local['loss'].values + offset), \n",
    "    eval_set = [(\n",
    "        validation[features].values, \n",
    "        np.log(validation['loss'].values + offset)\n",
    "    )], \n",
    "    early_stopping_rounds = 15,\n",
    "    verbose = False,\n",
    ")"
   ]
  },
  {
   "cell_type": "code",
   "execution_count": 45,
   "metadata": {
    "collapsed": false
   },
   "outputs": [
    {
     "data": {
      "text/plain": [
       "array([ 2592.91479492,  1878.83605957,  3076.71459961, ...,  2591.87036133,\n",
       "        1192.19494629,  1190.78125   ], dtype=float32)"
      ]
     },
     "execution_count": 45,
     "metadata": {},
     "output_type": "execute_result"
    }
   ],
   "source": [
    "p = np.exp(model.predict(validation[features].values)) - offset\n",
    "p"
   ]
  },
  {
   "cell_type": "code",
   "execution_count": 46,
   "metadata": {
    "collapsed": false
   },
   "outputs": [
    {
     "name": "stdout",
     "output_type": "stream",
     "text": [
      "Min error: 1151.70, optimal prediction multiplicator: 1.024\n"
     ]
    }
   ],
   "source": [
    "scores = []\n",
    "for prediction_multiplicator in np.linspace(0.95, 1.05, 101) :\n",
    "    score = mean_absolute_error(p * prediction_multiplicator, validation['loss'])\n",
    "    scores.append((score, prediction_multiplicator))\n",
    "\n",
    "M = min(scores)[1]\n",
    "print ('Min error: %.2f, optimal prediction multiplicator: %.3f' % min(scores))"
   ]
  },
  {
   "cell_type": "code",
   "execution_count": 47,
   "metadata": {
    "collapsed": false
   },
   "outputs": [
    {
     "data": {
      "text/plain": [
       "177"
      ]
     },
     "execution_count": 47,
     "metadata": {},
     "output_type": "execute_result"
    }
   ],
   "source": [
    "model.n_estimators = int(model.best_iteration / 0.9)\n",
    "model.n_estimators "
   ]
  },
  {
   "cell_type": "code",
   "execution_count": 48,
   "metadata": {
    "collapsed": false
   },
   "outputs": [
    {
     "data": {
      "text/plain": [
       "XGBRegressor(base_score=0.5, colsample_bylevel=1, colsample_bytree=1, gamma=0,\n",
       "       learning_rate=0.1, max_delta_step=0, max_depth=8,\n",
       "       min_child_weight=1, missing=None, n_estimators=177, nthread=-1,\n",
       "       objective='reg:linear', reg_alpha=0, reg_lambda=1,\n",
       "       scale_pos_weight=1, seed=0, silent=False, subsample=1)"
      ]
     },
     "execution_count": 48,
     "metadata": {},
     "output_type": "execute_result"
    }
   ],
   "source": [
    "model.fit(train[features].values, np.log(train['loss'].values + offset))"
   ]
  },
  {
   "cell_type": "code",
   "execution_count": 49,
   "metadata": {
    "collapsed": false
   },
   "outputs": [
    {
     "name": "stderr",
     "output_type": "stream",
     "text": [
      "C:\\Users\\Andrea\\Anaconda3\\lib\\site-packages\\pandas\\core\\indexing.py:465: SettingWithCopyWarning: \n",
      "A value is trying to be set on a copy of a slice from a DataFrame.\n",
      "Try using .loc[row_indexer,col_indexer] = value instead\n",
      "\n",
      "See the caveats in the documentation: http://pandas.pydata.org/pandas-docs/stable/indexing.html#indexing-view-versus-copy\n",
      "  self.obj[item] = s\n",
      "C:\\Users\\Andrea\\Anaconda3\\lib\\site-packages\\pandas\\core\\indexing.py:288: SettingWithCopyWarning: \n",
      "A value is trying to be set on a copy of a slice from a DataFrame.\n",
      "Try using .loc[row_indexer,col_indexer] = value instead\n",
      "\n",
      "See the caveats in the documentation: http://pandas.pydata.org/pandas-docs/stable/indexing.html#indexing-view-versus-copy\n",
      "  self.obj[key] = _infer_fill_value(value)\n"
     ]
    }
   ],
   "source": [
    "test.loc[:, 'loss'] = np.exp(model.predict(test[features].values)) - offset\n",
    "test.loc[:, 'loss'] *= M\n",
    "\n",
    "test.loc[:, 'loss_xgboost'] = test.loc[:, 'loss']"
   ]
  },
  {
   "cell_type": "code",
   "execution_count": 50,
   "metadata": {
    "collapsed": false
   },
   "outputs": [],
   "source": [
    "test[['id', 'loss']].to_csv('xgboost_log_transform_multiplicated_offset.csv', index = False)\n",
    "!gzip -f xgboost_log_transform_multiplicated_offset.csv"
   ]
  },
  {
   "cell_type": "markdown",
   "metadata": {},
   "source": [
    "### 1128.1 (Validation 1151.90) with ~750 place, slightly better"
   ]
  },
  {
   "cell_type": "markdown",
   "metadata": {},
   "source": [
    "\n",
    "## Let's try to blend two models , need the light gbm algorithm to do the following "
   ]
  },
  {
   "cell_type": "code",
   "execution_count": 55,
   "metadata": {
    "collapsed": false
   },
   "outputs": [
    {
     "name": "stdout",
     "output_type": "stream",
     "text": [
      "(1141.804785689927, 0.80000000000000004)\n"
     ]
    }
   ],
   "source": [
    "scores = []\n",
    "for alpha in np.linspace(0.1, 0.9, 9) :\n",
    "    p = validation['loss_lightgbm'] * alpha + validation['loss_xgboost'] * (1 - alpha)\n",
    "    score = mean_absolute_error(p, validation['loss'])\n",
    "    scores.append((score, alpha))\n",
    "    \n",
    "print min(scores)\n",
    "alpha = min(scores)[1]"
   ]
  },
  {
   "cell_type": "code",
   "execution_count": 56,
   "metadata": {
    "collapsed": true
   },
   "outputs": [],
   "source": [
    "test.loc[:, 'loss'] = test['loss_lightgbm'] * alpha + test['loss_xgboost'] * (1 - alpha)\n",
    "test[['id', 'loss']].to_csv('blending_log_transform_multiplicated_offset.csv', index = False)\n",
    "!gzip -f blending_log_transform_multiplicated_offset.csv"
   ]
  },
  {
   "cell_type": "markdown",
   "metadata": {},
   "source": [
    "### 1118.2 with ~500 place\n"
   ]
  }
 ],
 "metadata": {
  "anaconda-cloud": {},
  "kernelspec": {
   "display_name": "Python [default]",
   "language": "python",
   "name": "python3"
  },
  "language_info": {
   "codemirror_mode": {
    "name": "ipython",
    "version": 3
   },
   "file_extension": ".py",
   "mimetype": "text/x-python",
   "name": "python",
   "nbconvert_exporter": "python",
   "pygments_lexer": "ipython3",
   "version": "3.5.2"
  }
 },
 "nbformat": 4,
 "nbformat_minor": 0
}
